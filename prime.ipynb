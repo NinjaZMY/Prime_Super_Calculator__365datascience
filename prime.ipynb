{
 "cells": [
  {
   "cell_type": "markdown",
   "metadata": {},
   "source": [
    " Prime Number py, below just using a 100 Prime Numbers "
   ]
  },
  {
   "cell_type": "code",
   "execution_count": 97,
   "metadata": {},
   "outputs": [
    {
     "name": "stdout",
     "output_type": "stream",
     "text": [
      "Exceeding Range : True ;\n",
      "                         Is in Range: False ;\n",
      "                                        97 = last list element ; \n",
      "                                 r = 99 \n",
      "end of the loop, the number 9887 is not divided by the prime list;\n",
      "for this matter another continuation loop will assure if our number is prime or not\n",
      "Last element divider is : 97 \n",
      "the rest, starting from 97:...\n",
      "& is_prime(9887)  returns True\n"
     ]
    }
   ],
   "source": [
    "# prime numbers below 100 below:\n",
    "prime_list=[2, 3, 5, 7, 11, 13, 17, 19, 23, 29, 31, 37, 41, 43, 47, 53, 59, 61, 67, 71, 73, 79, 83, 89, 97]\n",
    "\n",
    "Biggest=prime_list[len(prime_list)-1]\n",
    "# to check if a number is on range, prime_list(len)\n",
    "\"\"\"\n",
    "meaning i need to check that a number \n",
    "is inferior to the last number in the list \n",
    "\"\"\"\n",
    "\n",
    "def is_prime(n):\n",
    "    second=False\n",
    "    r=int(n**0.5); \n",
    "    exceed=r > Biggest\n",
    "\n",
    "    is_in_range=r < Biggest\n",
    "\n",
    "    print(f\"Exceeding Range : {exceed} ;\\n                         Is in Range: {is_in_range} ;\\n                                        {Biggest} = last list element ; \\n                                 r = {r} \")\n",
    "    for i,e in enumerate(prime_list):\n",
    "        #log below for debug\n",
    "        #print(\"e equals: \",e,\" ; ( \",e,\" > \",r,\" ) meaning\",e>r ,\"& exceed equals: \",exceed)\n",
    "        exceed=e > r\n",
    "        # commented below but can be used for debug: \n",
    "        #print(f\"element number {i} : {e} \")\n",
    "        if not exceed:\n",
    "            if n%e==0: \n",
    "                print(f\"\\n {e} is a divider of {n}\")\n",
    "                return False; \n",
    "    #else if exceed :break\n",
    "        else: \n",
    "            l=i-1;\n",
    "            print(f\"Loop exceeds {r}, with the number {e} \") \n",
    "            break \n",
    "        \n",
    "        #if this is the end of the loop\n",
    "        if i==len(prime_list)-1:\n",
    "            second=True\n",
    "            l=i\n",
    "            print(f\"end of the loop, the number {n} is not divided by the prime list;\\nfor this matter another continuation loop will assure if our number is prime or not\")\n",
    "\n",
    "    s=prime_list[l];\n",
    "    print(f\"Last element divider is : {s} \")    \n",
    "    if second:\n",
    "        Rest(s);\n",
    "    \n",
    "    return True\n",
    "\n",
    "def Rest(l): \n",
    "    print(f\"the rest, starting from {l}:...\")\n",
    "\n",
    "\n",
    "# 5003, 98\n",
    "n=9887 # our main number variable \n",
    "print(f\"& is_prime({n})  returns {is_prime(n)}\")"
   ]
  },
  {
   "cell_type": "markdown",
   "metadata": {},
   "source": [
    "continue the loop: \n",
    "if default-prime-list-exists # we don't need to start the work from scratch \n",
    "# meaning that we went through a loop \n",
    "min : max(prime-list) ; max : r \n",
    "Rest(min) # min equals max(prime-list)\n",
    "else\n",
    "min : 2 ; max : r equals n**0.5\n",
    "prime-list = [2,3,5,7,9,11] \n",
    "# meaning that : \n",
    "# 1) we go from list \n",
    "# 2) we complete the rest after loop \n",
    "Rest(prime-list)\n",
    "---\n",
    "typeof arg : if int: min=arg else: work-with-primelist(arg) \n",
    "\n",
    "def Rest(prime-list) S\n",
    "\n",
    "list\n",
    "min \n",
    "min=primelist if \"int\" in str(type(primelist)) else list=primelist  \n",
    "---\n",
    "\n",
    "min = primelist if isinstance(primelist, int) else None\n",
    "list = None if isinstance(primelist, int) else primelist\n",
    "--\n",
    "FOR P > 3: \n",
    "p = 6k + i ; i is either 1 or 5 \n",
    "so p= 6k+1 or p=6k+5; \n",
    "in practice \n",
    "if n % counter + 1 return false \n",
    "if n % counter + 5 return false \n",
    "else counter+=6; \n",
    "\n"
   ]
  },
  {
   "cell_type": "markdown",
   "metadata": {},
   "source": []
  },
  {
   "cell_type": "code",
   "execution_count": 34,
   "metadata": {},
   "outputs": [
    {
     "name": "stdout",
     "output_type": "stream",
     "text": [
      "Error: invalid literal for int() with base 10: '\"PRIMES\"'\n"
     ]
    }
   ],
   "source": [
    "# Function to load primes from a file\n",
    "def load_primes_from_file(file_path):\n",
    "    \"\"\"Loads prime numbers from a file into a list.\"\"\"\n",
    "    with open(file_path, \"r\") as f:\n",
    "        # Read each line, strip newline characters, and convert to integers\n",
    "        primes = [int(line.strip()) for line in f if line.strip()]\n",
    "    return primes\n",
    "\n",
    "# Path to your local file (update this path as per your system)\n",
    "file_path = \"someprimes.txt\"\n",
    "\n",
    "# Load primes into a list\n",
    "try:\n",
    "    primes_list = load_primes_from_file(file_path)\n",
    "    print(\"File imported successfully!\")\n",
    "    \n",
    "    # Display the first few primes to confirm\n",
    "    print(\"First 10 primes:\", primes_list[:10])\n",
    "    print(\"Total primes imported:\", len(primes_list))\n",
    "except Exception as e:\n",
    "    print(f\"Error: {e}\")\n"
   ]
  }
 ],
 "metadata": {
  "kernelspec": {
   "display_name": "Python 3",
   "language": "python",
   "name": "python3"
  },
  "language_info": {
   "codemirror_mode": {
    "name": "ipython",
    "version": 3
   },
   "file_extension": ".py",
   "mimetype": "text/x-python",
   "name": "python",
   "nbconvert_exporter": "python",
   "pygments_lexer": "ipython3",
   "version": "3.9.13"
  }
 },
 "nbformat": 4,
 "nbformat_minor": 2
}
